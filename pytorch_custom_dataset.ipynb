{
  "nbformat": 4,
  "nbformat_minor": 0,
  "metadata": {
    "colab": {
      "provenance": [],
      "collapsed_sections": [],
      "mount_file_id": "1oUmytwdWVuETwfBlCj-vgkCeY_2MtU9G",
      "authorship_tag": "ABX9TyO21UKhswaf9HV2+2cKnORm",
      "include_colab_link": true
    },
    "kernelspec": {
      "name": "python3",
      "display_name": "Python 3"
    },
    "language_info": {
      "name": "python"
    }
  },
  "cells": [
    {
      "cell_type": "markdown",
      "metadata": {
        "id": "view-in-github",
        "colab_type": "text"
      },
      "source": [
        "<a href=\"https://colab.research.google.com/github/Jeevith-Raj/pytorch_custom_detection/blob/main/pytorch_custom_dataset.ipynb\" target=\"_parent\"><img src=\"https://colab.research.google.com/assets/colab-badge.svg\" alt=\"Open In Colab\"/></a>"
      ]
    },
    {
      "cell_type": "code",
      "execution_count": 1,
      "metadata": {
        "id": "aaKmgvsqFy7x"
      },
      "outputs": [],
      "source": [
        "import torch\n",
        "\n",
        "BATCH_SIZE = 4 # increase / decrease according to GPU memeory\n",
        "RESIZE_TO = 512 # resize the image for training and transforms\n",
        "NUM_EPOCHS = 5 # number of epochs to train for\n",
        "\n",
        "DEVICE = torch.device('cuda') if torch.cuda.is_available() else torch.device('cpu')\n",
        "\n",
        "# training images and XML files directory\n",
        "TRAIN_DIR = '../Microcontroller Detection/train'\n",
        "# validation images and XML files directory\n",
        "VALID_DIR = '../Microcontroller Detection/test'\n",
        "\n",
        "# classes: 0 index is reserved for background\n",
        "CLASSES = [\n",
        "    'background', 'Arduino_Nano', 'ESP8266', 'Raspberry_Pi_3', 'Heltec_ESP32_Lora'\n",
        "]\n",
        "NUM_CLASSES = 5\n",
        "\n",
        "# whether to visualize images after crearing the data loaders\n",
        "VISUALIZE_TRANSFORMED_IMAGES = False\n",
        "\n",
        "# location to save model and plots\n",
        "OUT_DIR = '../outputs'\n",
        "SAVE_PLOTS_EPOCH = 2 # save loss plots after these many epochs\n",
        "SAVE_MODEL_EPOCH = 2 # save model after these many epochs"
      ]
    },
    {
      "cell_type": "code",
      "source": [
        "print(\"hhhu\")"
      ],
      "metadata": {
        "colab": {
          "base_uri": "https://localhost:8080/"
        },
        "id": "Z8m5UECLIDJX",
        "outputId": "3938c9aa-73d5-49f1-de94-1fe01212c63c"
      },
      "execution_count": 2,
      "outputs": [
        {
          "output_type": "stream",
          "name": "stdout",
          "text": [
            "hhhu\n"
          ]
        }
      ]
    },
    {
      "cell_type": "markdown",
      "source": [
        "# New Section"
      ],
      "metadata": {
        "id": "rUcddRETGxFg"
      }
    },
    {
      "cell_type": "code",
      "source": [],
      "metadata": {
        "id": "p7ZBes-mGjMU"
      },
      "execution_count": null,
      "outputs": []
    }
  ]
}